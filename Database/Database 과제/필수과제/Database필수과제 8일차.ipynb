{
 "cells": [
  {
   "cell_type": "code",
   "execution_count": null,
   "id": "8304f702",
   "metadata": {},
   "outputs": [],
   "source": [
    "[Mongo DB] 데이터 삽입"
   ]
  },
  {
   "cell_type": "code",
   "execution_count": 1,
   "id": "00c39413",
   "metadata": {},
   "outputs": [
    {
     "name": "stdout",
     "output_type": "stream",
     "text": [
      "Data inserted successfully\n"
     ]
    }
   ],
   "source": [
    "from pymongo import MongoClient\n",
    "\n",
    "def insert_data():\n",
    "    client = MongoClient('mongodb://localhost:27017/')\n",
    "    db = client.local  # 'local' 데이터베이스 사용\n",
    "\n",
    "    # 책 데이터 삽입\n",
    "    books = [\n",
    "        {\"title\": \"Kafka on the Shore\", \"author\": \"Haruki Murakami\", \"year\": 2002},\n",
    "        {\"title\": \"Norwegian Wood\", \"author\": \"Haruki Murakami\", \"year\": 1987},\n",
    "        {\"title\": \"1Q84\", \"author\": \"Haruki Murakami\", \"year\": 2009}\n",
    "    ]\n",
    "    db.books.insert_many(books)\n",
    "\n",
    "    # 영화 데이터 삽입\n",
    "    movies = [\n",
    "        {\"title\": \"Inception\", \"director\": \"Christopher Nolan\", \"year\": 2010, \"rating\": 8.8},\n",
    "        {\"title\": \"Interstellar\", \"director\": \"Christopher Nolan\", \"year\": 2014, \"rating\": 8.6},\n",
    "        {\"title\": \"The Dark Knight\", \"director\": \"Christopher Nolan\", \"year\": 2008, \"rating\": 9.0}\n",
    "    ]\n",
    "    db.movies.insert_many(movies)\n",
    "\n",
    "    # 사용자 행동 데이터 삽입\n",
    "    user_actions = [\n",
    "        {\"user_id\": 1, \"action\": \"click\", \"timestamp\": \"2023-04-12T08:00:00Z\"},\n",
    "        {\"user_id\": 1, \"action\": \"view\", \"timestamp\": \"2023-04-12T09:00:00Z\"},\n",
    "        {\"user_id\": 2, \"action\": \"purchase\", \"timestamp\": \"2023-04-12T10:00:00Z\"}\n",
    "    ]\n",
    "    db.user_actions.insert_many(user_actions)\n",
    "\n",
    "    print(\"Data inserted successfully\")\n",
    "    client.close()\n",
    "\n",
    "if __name__ == \"__main__\":\n",
    "    insert_data()\n"
   ]
  },
  {
   "cell_type": "code",
   "execution_count": null,
   "id": "c6d82a27",
   "metadata": {},
   "outputs": [
    {
     "name": "stdout",
     "output_type": "stream",
     "text": [
      "{'_id': ObjectId('68550752984cf7b274e858ca'), 'title': 'Kafka on the Shore', 'author': 'Haruki Murakami', 'year': 2002}\n",
      "{'_id': ObjectId('68550752984cf7b274e858cb'), 'title': 'Norwegian Wood', 'author': 'Haruki Murakami', 'year': 1987}\n",
      "{'_id': ObjectId('68550752984cf7b274e858cc'), 'title': '1Q84', 'author': 'Haruki Murakami', 'year': 2009}\n",
      "{'_id': ObjectId('68550a7f984cf7b274e858d4'), 'title': 'Kafka on the Shore', 'author': 'Haruki Murakami', 'year': 2002}\n",
      "{'_id': ObjectId('68550a7f984cf7b274e858d5'), 'title': 'Norwegian Wood', 'author': 'Haruki Murakami', 'year': 1987}\n",
      "{'_id': ObjectId('68550a7f984cf7b274e858d6'), 'title': '1Q84', 'author': 'Haruki Murakami', 'year': 2009}\n",
      "{'_id': ObjectId('68550a80984cf7b274e858de'), 'title': 'Kafka on the Shore', 'author': 'Haruki Murakami', 'year': 2002}\n",
      "{'_id': ObjectId('68550a80984cf7b274e858df'), 'title': 'Norwegian Wood', 'author': 'Haruki Murakami', 'year': 1987}\n",
      "{'_id': ObjectId('68550a80984cf7b274e858e0'), 'title': '1Q84', 'author': 'Haruki Murakami', 'year': 2009}\n",
      "{'_id': ObjectId('68550a900c24b6c565fcc0c9'), 'title': 'Kafka on the Shore', 'author': 'Haruki Murakami', 'year': 2002}\n",
      "{'_id': ObjectId('68550a900c24b6c565fcc0ca'), 'title': 'Norwegian Wood', 'author': 'Haruki Murakami', 'year': 1987}\n",
      "{'_id': ObjectId('68550a900c24b6c565fcc0cb'), 'title': '1Q84', 'author': 'Haruki Murakami', 'year': 2009}\n"
     ]
    }
   ],
   "source": [
    "from pymongo import MongoClient\n",
    "client = MongoClient('mongodb://localhost:27017/')\n",
    "db = client.local\n",
    "for books in db.books.find():\n",
    "    print(books)\n",
    "client.close()"
   ]
  },
  {
   "cell_type": "code",
   "execution_count": null,
   "id": "f39eb284",
   "metadata": {},
   "outputs": [],
   "source": [
    "각 문제별 문제에 있는 정보 및 내용 추가"
   ]
  },
  {
   "cell_type": "code",
   "execution_count": 3,
   "id": "99e8ce8e",
   "metadata": {},
   "outputs": [],
   "source": [
    "from pymongo import MongoClient\n",
    "from datetime import datetime\n",
    "\n",
    "def update_existing_data():\n",
    "    client = MongoClient('mongodb://localhost:27017/')\n",
    "    db = client.local\n",
    "    # 문제 1: 책 데이터에 장르 필드 추가\n",
    "    db.books.update_one(\n",
    "        {\"title\": \"Kafka on the Shore\"},\n",
    "        {\"$set\": {\"genre\": \"fantasy\"}}\n",
    "    )\n",
    "    db.books.update_one(\n",
    "        {\"title\": \"Norwegian Wood\"},\n",
    "        {\"$set\": {\"genre\": \"romance\"}}\n",
    "    )\n",
    "    db.books.update_one(\n",
    "        {\"title\": \"1Q84\"},\n",
    "        {\"$set\": {\"genre\": \"fantasy\"}}\n",
    "    )\n",
    "    # 문제 3, 5: 사용자 행동 로그에 timestamp 추가 및 일부 행동 추가\n",
    "    user_actions = [\n",
    "        {\"user_id\": 1, \"action\": \"view\", \"timestamp\": \"2023-04-01T10:00:00Z\"},\n",
    "        {\"user_id\": 1, \"action\": \"view\", \"timestamp\": \"2023-04-05T12:00:00Z\"},\n",
    "        {\"user_id\": 1, \"action\": \"click\", \"timestamp\": \"2023-04-07T14:00:00Z\"},\n",
    "        {\"user_id\": 1, \"action\": \"view\", \"timestamp\": \"2023-04-09T15:00:00Z\"},\n",
    "        {\"user_id\": 1, \"action\": \"view\", \"timestamp\": \"2023-04-11T16:00:00Z\"},\n",
    "        {\"user_id\": 1, \"action\": \"purchase\", \"timestamp\": \"2023-04-13T18:00:00Z\"}\n",
    "    ]\n",
    "    db.user_actions.insert_many(user_actions)\n",
    "\n",
    "    client.close()\n",
    "\n",
    "if __name__ == \"__main__\":\n",
    "    update_existing_data()"
   ]
  },
  {
   "cell_type": "code",
   "execution_count": null,
   "id": "6b6e76b7",
   "metadata": {},
   "outputs": [],
   "source": [
    "전체 데이터 확인하기"
   ]
  },
  {
   "cell_type": "code",
   "execution_count": 5,
   "id": "5ce6b819",
   "metadata": {},
   "outputs": [
    {
     "name": "stdout",
     "output_type": "stream",
     "text": [
      "{'_id': ObjectId('68550752984cf7b274e858ca'),\n",
      " 'author': 'Haruki Murakami',\n",
      " 'genre': 'fantasy',\n",
      " 'title': 'Kafka on the Shore',\n",
      " 'year': 2002}\n",
      "{'_id': ObjectId('68550752984cf7b274e858cb'),\n",
      " 'author': 'Haruki Murakami',\n",
      " 'genre': 'romance',\n",
      " 'title': 'Norwegian Wood',\n",
      " 'year': 1987}\n",
      "{'_id': ObjectId('68550752984cf7b274e858cc'),\n",
      " 'author': 'Haruki Murakami',\n",
      " 'genre': 'fantasy',\n",
      " 'title': '1Q84',\n",
      " 'year': 2009}\n",
      "{'_id': ObjectId('68550a7f984cf7b274e858d4'),\n",
      " 'author': 'Haruki Murakami',\n",
      " 'title': 'Kafka on the Shore',\n",
      " 'year': 2002}\n",
      "{'_id': ObjectId('68550a7f984cf7b274e858d5'),\n",
      " 'author': 'Haruki Murakami',\n",
      " 'title': 'Norwegian Wood',\n",
      " 'year': 1987}\n",
      "{'_id': ObjectId('68550a7f984cf7b274e858d6'),\n",
      " 'author': 'Haruki Murakami',\n",
      " 'title': '1Q84',\n",
      " 'year': 2009}\n",
      "{'_id': ObjectId('68550a80984cf7b274e858de'),\n",
      " 'author': 'Haruki Murakami',\n",
      " 'title': 'Kafka on the Shore',\n",
      " 'year': 2002}\n",
      "{'_id': ObjectId('68550a80984cf7b274e858df'),\n",
      " 'author': 'Haruki Murakami',\n",
      " 'title': 'Norwegian Wood',\n",
      " 'year': 1987}\n",
      "{'_id': ObjectId('68550a80984cf7b274e858e0'),\n",
      " 'author': 'Haruki Murakami',\n",
      " 'title': '1Q84',\n",
      " 'year': 2009}\n",
      "{'_id': ObjectId('68550a900c24b6c565fcc0c9'),\n",
      " 'author': 'Haruki Murakami',\n",
      " 'title': 'Kafka on the Shore',\n",
      " 'year': 2002}\n",
      "{'_id': ObjectId('68550a900c24b6c565fcc0ca'),\n",
      " 'author': 'Haruki Murakami',\n",
      " 'title': 'Norwegian Wood',\n",
      " 'year': 1987}\n",
      "{'_id': ObjectId('68550a900c24b6c565fcc0cb'),\n",
      " 'author': 'Haruki Murakami',\n",
      " 'title': '1Q84',\n",
      " 'year': 2009}\n"
     ]
    }
   ],
   "source": [
    "from pymongo import MongoClient\n",
    "from pprint import pprint\n",
    "\n",
    "client = MongoClient('mongodb://localhost:27017/')\n",
    "db = client.local\n",
    "for doc in db.books.find():\n",
    "    pprint(doc)"
   ]
  },
  {
   "cell_type": "code",
   "execution_count": 6,
   "id": "056f0566",
   "metadata": {},
   "outputs": [
    {
     "name": "stdout",
     "output_type": "stream",
     "text": [
      "{'_id': ObjectId('68550752984cf7b274e858cd'),\n",
      " 'director': 'Christopher Nolan',\n",
      " 'rating': 8.8,\n",
      " 'title': 'Inception',\n",
      " 'year': 2010}\n",
      "{'_id': ObjectId('68550752984cf7b274e858ce'),\n",
      " 'director': 'Christopher Nolan',\n",
      " 'rating': 8.6,\n",
      " 'title': 'Interstellar',\n",
      " 'year': 2014}\n",
      "{'_id': ObjectId('68550752984cf7b274e858cf'),\n",
      " 'director': 'Christopher Nolan',\n",
      " 'rating': 9.0,\n",
      " 'title': 'The Dark Knight',\n",
      " 'year': 2008}\n",
      "{'_id': ObjectId('68550a7f984cf7b274e858d7'),\n",
      " 'director': 'Christopher Nolan',\n",
      " 'rating': 8.8,\n",
      " 'title': 'Inception',\n",
      " 'year': 2010}\n",
      "{'_id': ObjectId('68550a7f984cf7b274e858d8'),\n",
      " 'director': 'Christopher Nolan',\n",
      " 'rating': 8.6,\n",
      " 'title': 'Interstellar',\n",
      " 'year': 2014}\n",
      "{'_id': ObjectId('68550a7f984cf7b274e858d9'),\n",
      " 'director': 'Christopher Nolan',\n",
      " 'rating': 9.0,\n",
      " 'title': 'The Dark Knight',\n",
      " 'year': 2008}\n",
      "{'_id': ObjectId('68550a80984cf7b274e858e1'),\n",
      " 'director': 'Christopher Nolan',\n",
      " 'rating': 8.8,\n",
      " 'title': 'Inception',\n",
      " 'year': 2010}\n",
      "{'_id': ObjectId('68550a80984cf7b274e858e2'),\n",
      " 'director': 'Christopher Nolan',\n",
      " 'rating': 8.6,\n",
      " 'title': 'Interstellar',\n",
      " 'year': 2014}\n",
      "{'_id': ObjectId('68550a80984cf7b274e858e3'),\n",
      " 'director': 'Christopher Nolan',\n",
      " 'rating': 9.0,\n",
      " 'title': 'The Dark Knight',\n",
      " 'year': 2008}\n",
      "{'_id': ObjectId('68550a900c24b6c565fcc0cc'),\n",
      " 'director': 'Christopher Nolan',\n",
      " 'rating': 8.8,\n",
      " 'title': 'Inception',\n",
      " 'year': 2010}\n",
      "{'_id': ObjectId('68550a900c24b6c565fcc0cd'),\n",
      " 'director': 'Christopher Nolan',\n",
      " 'rating': 8.6,\n",
      " 'title': 'Interstellar',\n",
      " 'year': 2014}\n",
      "{'_id': ObjectId('68550a900c24b6c565fcc0ce'),\n",
      " 'director': 'Christopher Nolan',\n",
      " 'rating': 9.0,\n",
      " 'title': 'The Dark Knight',\n",
      " 'year': 2008}\n"
     ]
    }
   ],
   "source": [
    "for doc in db.movies.find():\n",
    "    pprint(doc)\n"
   ]
  },
  {
   "cell_type": "code",
   "execution_count": 7,
   "id": "f62e1917",
   "metadata": {},
   "outputs": [
    {
     "name": "stdout",
     "output_type": "stream",
     "text": [
      "{'_id': ObjectId('68550752984cf7b274e858d0'),\n",
      " 'action': 'click',\n",
      " 'timestamp': '2023-04-12T08:00:00Z',\n",
      " 'user_id': 1}\n",
      "{'_id': ObjectId('68550752984cf7b274e858d1'),\n",
      " 'action': 'view',\n",
      " 'timestamp': '2023-04-12T09:00:00Z',\n",
      " 'user_id': 1}\n",
      "{'_id': ObjectId('68550752984cf7b274e858d2'),\n",
      " 'action': 'purchase',\n",
      " 'timestamp': '2023-04-12T10:00:00Z',\n",
      " 'user_id': 2}\n",
      "{'_id': ObjectId('68550a7f984cf7b274e858da'),\n",
      " 'action': 'click',\n",
      " 'timestamp': '2023-04-12T08:00:00Z',\n",
      " 'user_id': 1}\n",
      "{'_id': ObjectId('68550a7f984cf7b274e858db'),\n",
      " 'action': 'view',\n",
      " 'timestamp': '2023-04-12T09:00:00Z',\n",
      " 'user_id': 1}\n",
      "{'_id': ObjectId('68550a7f984cf7b274e858dc'),\n",
      " 'action': 'purchase',\n",
      " 'timestamp': '2023-04-12T10:00:00Z',\n",
      " 'user_id': 2}\n",
      "{'_id': ObjectId('68550a80984cf7b274e858e4'),\n",
      " 'action': 'click',\n",
      " 'timestamp': '2023-04-12T08:00:00Z',\n",
      " 'user_id': 1}\n",
      "{'_id': ObjectId('68550a80984cf7b274e858e5'),\n",
      " 'action': 'view',\n",
      " 'timestamp': '2023-04-12T09:00:00Z',\n",
      " 'user_id': 1}\n",
      "{'_id': ObjectId('68550a80984cf7b274e858e6'),\n",
      " 'action': 'purchase',\n",
      " 'timestamp': '2023-04-12T10:00:00Z',\n",
      " 'user_id': 2}\n",
      "{'_id': ObjectId('68550a900c24b6c565fcc0cf'),\n",
      " 'action': 'click',\n",
      " 'timestamp': '2023-04-12T08:00:00Z',\n",
      " 'user_id': 1}\n",
      "{'_id': ObjectId('68550a900c24b6c565fcc0d0'),\n",
      " 'action': 'view',\n",
      " 'timestamp': '2023-04-12T09:00:00Z',\n",
      " 'user_id': 1}\n",
      "{'_id': ObjectId('68550a900c24b6c565fcc0d1'),\n",
      " 'action': 'purchase',\n",
      " 'timestamp': '2023-04-12T10:00:00Z',\n",
      " 'user_id': 2}\n",
      "{'_id': ObjectId('685511870c24b6c565fcc0d4'),\n",
      " 'action': 'view',\n",
      " 'timestamp': '2023-04-01T10:00:00Z',\n",
      " 'user_id': 1}\n",
      "{'_id': ObjectId('685511870c24b6c565fcc0d5'),\n",
      " 'action': 'view',\n",
      " 'timestamp': '2023-04-05T12:00:00Z',\n",
      " 'user_id': 1}\n",
      "{'_id': ObjectId('685511870c24b6c565fcc0d6'),\n",
      " 'action': 'click',\n",
      " 'timestamp': '2023-04-07T14:00:00Z',\n",
      " 'user_id': 1}\n",
      "{'_id': ObjectId('685511870c24b6c565fcc0d7'),\n",
      " 'action': 'view',\n",
      " 'timestamp': '2023-04-09T15:00:00Z',\n",
      " 'user_id': 1}\n",
      "{'_id': ObjectId('685511870c24b6c565fcc0d8'),\n",
      " 'action': 'view',\n",
      " 'timestamp': '2023-04-11T16:00:00Z',\n",
      " 'user_id': 1}\n",
      "{'_id': ObjectId('685511870c24b6c565fcc0d9'),\n",
      " 'action': 'purchase',\n",
      " 'timestamp': '2023-04-13T18:00:00Z',\n",
      " 'user_id': 1}\n"
     ]
    }
   ],
   "source": [
    "for doc in db.user_actions.find():\n",
    "    pprint(doc)\n",
    "client.close()"
   ]
  },
  {
   "cell_type": "code",
   "execution_count": null,
   "id": "5adbf0cd",
   "metadata": {},
   "outputs": [],
   "source": [
    "**[문제 1: 특정 장르의 책 찾기]**\n",
    "\n",
    "- **문제 설명**:\n",
    "데이터베이스에 새로운 필드로 **`genre`**를 책 데이터에 추가하였습니다. 사용자는 \"fantasy\" 장르의 모든 책을 찾고 싶어합니다.\n",
    "- **쿼리 작성 목표**:\n",
    "\"fantasy\" 장르에 해당하는 모든 책의 제목과 저자를 찾는 MongoDB 쿼리를 함수로 만들어 문제를 해결해 봅니다."
   ]
  },
  {
   "cell_type": "code",
   "execution_count": 14,
   "id": "9f44c4db",
   "metadata": {},
   "outputs": [
    {
     "name": "stdout",
     "output_type": "stream",
     "text": [
      "{'title': 'Kafka on the Shore', 'author': 'Haruki Murakami'}\n",
      "{'title': '1Q84', 'author': 'Haruki Murakami'}\n"
     ]
    }
   ],
   "source": [
    "# 답안제출:\n",
    "from pymongo import MongoClient\n",
    "\n",
    "client = MongoClient('mongodb://localhost:27017/')\n",
    "db = client.local\n",
    "\n",
    "for doc in db.books.find({\"genre\" : \"fantasy\"}, {'title': 1, 'author': 1, '_id': 0}):\n",
    "    print(doc)\n",
    "\n",
    "client.close()"
   ]
  },
  {
   "cell_type": "code",
   "execution_count": null,
   "id": "09c0f6c3",
   "metadata": {},
   "outputs": [],
   "source": [
    "**[문제 2: 감독별 평균 영화 평점 계산]**\n",
    "\n",
    "- **문제 설명**:\n",
    "각 영화 감독별로 그들의 영화 평점의 평균을 계산하고 싶습니다. 이를 통해 어떤 감독이 가장 높은 평균 평점을 가지고 있는지 알아볼 수 있습니다.\n",
    "- **쿼리 작성 목표**:\n",
    "모든 영화 감독의 영화 평점 평균을 계산하고, 평균 평점이 높은 순으로 정렬하는 MongoDB 쿼리를 함수로 만들어 문제를 해결해 봅니다."
   ]
  },
  {
   "cell_type": "code",
   "execution_count": null,
   "id": "79dcd51e",
   "metadata": {},
   "outputs": [],
   "source": [
    "# 답안제출:\n",
    "from pymongo import MongoClient\n",
    "\n",
    "client = MongoClient('mongodb://localhost:27017/')\n",
    "db = client.local\n",
    "\n",
    "client.close()"
   ]
  },
  {
   "cell_type": "code",
   "execution_count": null,
   "id": "764db0d3",
   "metadata": {},
   "outputs": [],
   "source": [
    "**[문제 3: 특정 사용자의 최근 행동 조회]**\n",
    "\n",
    "- **문제 설명**:\n",
    "특정 사용자의 최근 행동 로그를 조회하고자 합니다. 이 때, 최신 순으로 정렬하여 최근 5개의 행동만을 보고 싶습니다.\n",
    "- **쿼리 작성 목표**:\n",
    "사용자 ID가 1인 사용자의 최근 행동 5개를 시간 순으로 정렬하여 조회하는 MongoDB 쿼리를 함수로 만들어 문제를 해결해 봅니다."
   ]
  },
  {
   "cell_type": "code",
   "execution_count": null,
   "id": "b0b23700",
   "metadata": {},
   "outputs": [
    {
     "name": "stdout",
     "output_type": "stream",
     "text": [
      "감독: Christopher Nolan, 평균 평점: 8.80\n"
     ]
    }
   ],
   "source": [
    "# 답안제출:\n",
    "from pymongo import MongoClient\n",
    "def get_director_avg_ratings():\n",
    "    client = MongoClient('mongodb://localhost:27017/')\n",
    "    db = client.local\n",
    "\n",
    "    pipeline = [\n",
    "        {\n",
    "            \"$group\": {\n",
    "                \"_id\": \"$director\",\n",
    "                \"avg_rating\": {\"$avg\": \"$rating\"}\n",
    "            }\n",
    "        },\n",
    "        {\n",
    "            \"$sort\": {\"avg_rating\": -1}\n",
    "        }\n",
    "    ]\n",
    "    results = db.movies.aggregate(pipeline)\n",
    "    for doc in results:\n",
    "        print(f\"감독: {doc['_id']}, 평균 평점: {doc['avg_rating']:.2f}\")\n",
    "client.close()\n",
    "get_director_avg_ratings()"
   ]
  },
  {
   "cell_type": "code",
   "execution_count": null,
   "id": "2eea44b9",
   "metadata": {},
   "outputs": [],
   "source": [
    "**[문제 4: 출판 연도별 책의 수 계산]**\n",
    "\n",
    "- **문제 설명** :\n",
    "데이터베이스에 저장된 책 데이터를 이용하여 각 출판 연도별로 출판된 책의 수를 계산하고자 합니다. 이 데이터는 시간에 따른 출판 트렌드를 분석하는 데 사용될 수 있습니다.\n",
    "- **쿼리 작성 목표** :\n",
    "각 출판 연도별로 출판된 책의 수를 계산하고, 출판된 책의 수가 많은 순서대로 정렬하는 MongoDB 쿼리를 함수로 만들어 문제를 해결해 봅니다."
   ]
  },
  {
   "cell_type": "code",
   "execution_count": null,
   "id": "055ac98c",
   "metadata": {},
   "outputs": [
    {
     "name": "stdout",
     "output_type": "stream",
     "text": [
      "연도: 1987, 책의 수: 4\n",
      "연도: 2002, 책의 수: 4\n",
      "연도: 2009, 책의 수: 4\n"
     ]
    }
   ],
   "source": [
    "# 답안제출:\n",
    "from pymongo import MongoClient\n",
    "\n",
    "def count_books_by_year():\n",
    "    client = MongoClient('mongodb://localhost:27017/')\n",
    "    db = client.local\n",
    "\n",
    "    pipeline = [\n",
    "        {\n",
    "            \"$group\": {\n",
    "                \"_id\": \"$year\",\n",
    "                \"count\": {\"$sum\": 1}\n",
    "            }\n",
    "        },\n",
    "        {\n",
    "            \"$sort\": {\"_id\": 1}\n",
    "        }\n",
    "    ]\n",
    "    results = db.books.aggregate(pipeline)\n",
    "    for doc in results:\n",
    "        print(f\"연도: {doc['_id']}, 책의 수: {doc['count']}\")\n",
    "count_books_by_year()\n",
    "\n",
    "client.close()"
   ]
  },
  {
   "cell_type": "code",
   "execution_count": null,
   "id": "94899c28",
   "metadata": {},
   "outputs": [],
   "source": [
    "**[문제 5: 특정 사용자의 행동 유형 업데이트]**\n",
    "\n",
    "- **문제 설명**:\n",
    "특정 사용자의 행동 로그 중, 특정 날짜 이전의 \"view\" 행동을 \"seen\"으로 변경하고 싶습니다. 예를 들어, 사용자 ID가 1인 사용자의 2023년 4월 10일 이전의 모든 \"view\" 행동을 \"seen\"으로 변경하는 작업입니다.\n",
    "- **쿼리 작성 목표**:\n",
    "사용자 ID가 1인 사용자의 2023년 4월 10일 이전의 \"view\" 행동을 \"seen\"으로 변경하는 MongoDB 업데이트 쿼리를 함수로 만들어 문제를 해결해 봅니다."
   ]
  },
  {
   "cell_type": "code",
   "execution_count": null,
   "id": "7015758b",
   "metadata": {},
   "outputs": [
    {
     "name": "stdout",
     "output_type": "stream",
     "text": [
      "변경 전: {'_id': ObjectId('685511870c24b6c565fcc0d4'), 'user_id': 1, 'action': 'view', 'timestamp': '2023-04-01T10:00:00Z'}\n",
      "변경 전: {'_id': ObjectId('685511870c24b6c565fcc0d5'), 'user_id': 1, 'action': 'view', 'timestamp': '2023-04-05T12:00:00Z'}\n",
      "변경 전: {'_id': ObjectId('685511870c24b6c565fcc0d7'), 'user_id': 1, 'action': 'view', 'timestamp': '2023-04-09T15:00:00Z'}\n",
      "수정된 문서 수: 3\n"
     ]
    }
   ],
   "source": [
    "#답안제출:\n",
    "from pymongo import MongoClient\n",
    "client = MongoClient('mongodb://localhost:27017/')\n",
    "db = client.local\n",
    "\n",
    "query = {\n",
    "    \"user_id\": 1,\n",
    "    \"action\": \"view\",\n",
    "    \"timestamp\": {\"$lt\": \"2023-04-10T00:00:00Z\"}\n",
    "}\n",
    "docs = list(db.user_actions.find(query))\n",
    "for doc in docs:\n",
    "    print(f\"변경 전: {doc}\")\n",
    "result = db.user_actions.update_many(\n",
    "    query,\n",
    "    {\"$set\": {\"action\": \"seen\"}}\n",
    ")\n",
    "print(f\"수정된 개수: {result.modified_count}\")\n",
    "\n",
    "client.close()"
   ]
  },
  {
   "cell_type": "code",
   "execution_count": null,
   "id": "9793fa5c",
   "metadata": {},
   "outputs": [
    {
     "name": "stdout",
     "output_type": "stream",
     "text": [
      "롤백 전: {'_id': ObjectId('685511870c24b6c565fcc0d4'), 'user_id': 1, 'action': 'seen', 'timestamp': '2023-04-01T10:00:00Z'}\n",
      "롤백 전: {'_id': ObjectId('685511870c24b6c565fcc0d5'), 'user_id': 1, 'action': 'seen', 'timestamp': '2023-04-05T12:00:00Z'}\n",
      "롤백 전: {'_id': ObjectId('685511870c24b6c565fcc0d7'), 'user_id': 1, 'action': 'seen', 'timestamp': '2023-04-09T15:00:00Z'}\n",
      "롤백된 문서 수: 3\n"
     ]
    }
   ],
   "source": [
    "#5번문제 롤백\n",
    "from pymongo import MongoClient\n",
    "\n",
    "client = MongoClient('mongodb://localhost:27017/')\n",
    "db = client.local\n",
    "\n",
    "query = {\n",
    "    \"user_id\": 1,\n",
    "    \"action\": \"seen\",\n",
    "    \"timestamp\": {\"$lt\": \"2023-04-10T00:00:00Z\"}\n",
    "}\n",
    "docs = list(db.user_actions.find(query))\n",
    "for doc in docs:\n",
    "    print(f\"롤백 전: {doc}\")\n",
    "result = db.user_actions.update_many(\n",
    "    query,\n",
    "    {\"$set\": {\"action\": \"view\"}}\n",
    ")\n",
    "print(f\"롤백된 개수: {result.modified_count}\")\n",
    "\n",
    "client.close()"
   ]
  }
 ],
 "metadata": {
  "kernelspec": {
   "display_name": "Python 3",
   "language": "python",
   "name": "python3"
  },
  "language_info": {
   "codemirror_mode": {
    "name": "ipython",
    "version": 3
   },
   "file_extension": ".py",
   "mimetype": "text/x-python",
   "name": "python",
   "nbconvert_exporter": "python",
   "pygments_lexer": "ipython3",
   "version": "3.13.3"
  }
 },
 "nbformat": 4,
 "nbformat_minor": 5
}
