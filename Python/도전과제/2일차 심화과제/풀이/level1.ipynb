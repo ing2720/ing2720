{
 "cells": [
  {
   "cell_type": "markdown",
   "metadata": {
    "id": "WXEwMsfUct7U"
   },
   "source": [
    "안녕하세요.<br><br>\n",
    "수강생 여러분~! \n",
    "\n",
    "\"Challenge : Chapter05 ~ 08 문제풀기\"는 잘 풀어보셨나요?\n",
    "\n",
    "\n",
    "너~~무 어려웠어요! 하는 분들을 위해 만들어봤습니다!\n",
    "\n",
    "문제 도장깨기 !!!!!\n",
    "\n",
    "차근차근 풀어나가면 파이썬 정복 가능입니다!\n",
    "\n",
    "화이팅 !\n",
    "\n",
    "\n",
    "Chapter05~08의 수업 내용을 바탕으로 아래 문제를 풀어주시면 됩니다.\n",
    "\n",
    "<br>\n",
    "\n",
    "[**답변 입력 방법**]\n",
    "\n",
    "문제 아래에 있는 코드 입력창에 정답코드를 작성하신 후  __▷ 버튼을 클릭해 코드를 실행__ 해보세요<br>\n",
    "<br>"
   ]
  },
  {
   "cell_type": "markdown",
   "metadata": {
    "id": "qoyC9wF-3hvs"
   },
   "source": [
    "-----"
   ]
  },
  {
   "cell_type": "markdown",
   "metadata": {},
   "source": [
    "<br>\n",
    "\n",
    "__[문제1]__\n",
    "\n",
    "\n",
    "a와 b라는 변수를 각각 10과 20으로 초기화하고, 두 변수를 더한 값을 출력해보세요.\n",
    "\n",
    "\n",
    "<br>"
   ]
  },
  {
   "cell_type": "code",
   "execution_count": null,
   "metadata": {},
   "outputs": [],
   "source": [
    "\n",
    "a = 10  # 변수 a에 10 할당\n",
    "b = 20  # 변수 b에 20 할당\n",
    "\n",
    "# 두 변수의 합 계산\n",
    "result = a + b\n",
    "print(\"두 변수의 합:\", result)  # 출력: 30"
   ]
  },
  {
   "cell_type": "markdown",
   "metadata": {},
   "source": [
    "<br>\n",
    "\n",
    "__[문제2]__\n",
    "\n",
    "\n",
    "변수 num1에 15, num2에 4를 할당하고, 두 변수를 더한 값, 뺀 값, 곱한 값, 나눈 값을 각각 출력하세요.\n",
    "\n",
    "\n",
    "\n",
    "<br>"
   ]
  },
  {
   "cell_type": "code",
   "execution_count": null,
   "metadata": {},
   "outputs": [],
   "source": [
    "num1 = 15  # 변수 num1에 15 할당\n",
    "num2 = 4  # 변수 num2에 4 할당\n",
    "\n",
    "# 각 연산 결과를 출력\n",
    "print(\"더한 값:\", num1 + num2)  # 출력: 19\n",
    "print(\"뺀 값:\", num1 - num2)  # 출력: 11\n",
    "print(\"곱한 값:\", num1 * num2)  # 출력: 60\n",
    "print(\"나눈 값:\", num1 / num2)  # 출력: 3.75"
   ]
  },
  {
   "cell_type": "markdown",
   "metadata": {
    "id": "rAD_O3Gmc_43"
   },
   "source": [
    "<br>\n",
    "\n",
    "__[문제3]__\n",
    "\n",
    "변수 x에 5를 할당하고, 변수 y에 3을 할당한 후, x가 y보다 크거나 같은지 비교해서 bool타입으로 출력해주세요."
   ]
  },
  {
   "cell_type": "code",
   "execution_count": null,
   "metadata": {
    "id": "74wtVQFFc_h1"
   },
   "outputs": [],
   "source": [
    "x = 5  # 변수 x에 5 할당\n",
    "y = 3  # 변수 y에 3 할당\n",
    "\n",
    "print(x >= y) #출력: True"
   ]
  },
  {
   "cell_type": "markdown",
   "metadata": {
    "id": "3uK_auXYdgk2"
   },
   "source": [
    "<br>__[문제4]__\n",
    "\n",
    "자료형 (int, float, str, bool) 변수를 만들어보고, print()해서 결과를 확인하세요!\n"
   ]
  },
  {
   "cell_type": "code",
   "execution_count": null,
   "metadata": {
    "id": "9kvBxa6PdhgA"
   },
   "outputs": [],
   "source": [
    "# 각 자료형 변수 정의\n",
    "integer_var = 42  # 정수\n",
    "float_var = 3.14  # 실수\n",
    "string_var = \"파이썬 재미있다!\"  # 문자열\n",
    "boolean_var = True  # 불리언\n",
    "\n",
    "# 각 변수 출력\n",
    "print(\"정수:\", integer_var)  # 출력: 42\n",
    "print(\"실수:\", float_var)  # 출력: 3.14\n",
    "print(\"문자열:\", string_var)  # 출력: 파이썬 재미있다!\n",
    "print(\"불리언:\", boolean_var)  # 출력: True"
   ]
  },
  {
   "cell_type": "markdown",
   "metadata": {
    "id": "2Jte2VLKdiPm"
   },
   "source": [
    "__[문제5]__\n",
    "\n",
    "str = \"야호야호야호호야호야야오햐오햐오햐오\"\n",
    "\n",
    "str을 3가지 이상의 다른 문자열 슬라이싱을 이용하여 확인해보세요!\n",
    "\n",
    "출력 예)\n",
    "\n",
    "처음 5글자: 야호야호야\n"
   ]
  },
  {
   "cell_type": "code",
   "execution_count": null,
   "metadata": {},
   "outputs": [],
   "source": [
    "# 문자열 정의\n",
    "str = \"야호야호야호호야호야야오햐오햐오햐오\"\n",
    "\n",
    "# 다양한 슬라이싱 방식\n",
    "print(\"처음 5글자:\", str[:5])  # 출력: 야호야호야\n",
    "print(\"뒤에서 5글자:\", str[-5:])  # 출력: 오햐오햐오\n",
    "print(\"2칸씩 건너뛰기:\", str[::2])  # 출력: 야야야호호야햐햐햐\n",
    "print(\"중간 7글자:\", str[3:10])  # 출력: '호야호호야호야'\n"
   ]
  },
  {
   "cell_type": "markdown",
   "metadata": {},
   "source": [
    "__[문제6]__\n",
    "\n",
    "변수명 게임에 들어 있는 값 중 '홀'만 출력되도록 코드를 작성해 주세요\n",
    "\n",
    "game = \"홀짝홀짝홀짝\"\n",
    "\n",
    "출력 예시 : \"홀홀홀\"\n",
    "\n",
    "<br>\n",
    "\n",
    "__Tips__\n",
    "- 문자열 슬라이싱을 이용해보세요 !\n"
   ]
  },
  {
   "cell_type": "markdown",
   "metadata": {},
   "source": [
    "<aside>\n",
    "🔑 정답 : print(게임[::2])\n",
    "\n",
    "<br>\n",
    "\n",
    "문자열 슬라이싱을 이용하면 게임 변수에서 홀수 인덱스의 문자만 추출할 수 있습니다. 파이썬의 인덱스는 0부터 시작하므로, '홀' 문자는 0, 2, 4 등의 인덱스에 위치합니다.\n",
    "\n",
    "따라서 '홀' 문자만 출력하려면 다음과 같이 코드를 작성할 수 있습니다.\n",
    "\n",
    "```python\n",
    "game = \"홀짝홀짝홀짝\"\n",
    "\n",
    "print(game[::2])\n",
    "```\n",
    "\n",
    "위 코드에서 `[::2]`는 게임 변수의 0번 인덱스부터 시작해서 2의 간격으로 문자를 선택하라는 의미입니다. 이렇게 하면 '홀' 문자만 선택되어 출력됩니다.\n",
    "\n",
    "</aside>"
   ]
  },
  {
   "cell_type": "markdown",
   "metadata": {},
   "source": [
    "__[문제7]__\n",
    "\n",
    "변수명 전화번호에 들어 있는 번호를 모두 붙여서 출력되도록 코드를 작성해주세요.\n",
    "\n",
    "<br>\n",
    "\n",
    "phone = \"010-1234-5678\"\n",
    "\n",
    "출력 예시 : \"01012345678\"\n",
    "\n",
    "<br>\n",
    "\n",
    "__Tips__\n",
    "- split() 함수는 문자열을 특정 구분자를 기준으로 나누어 리스트로 반환합니다.\n"
   ]
  },
  {
   "cell_type": "markdown",
   "metadata": {},
   "source": [
    "<aside>\n",
    "🔑 정답 : ‘’.join(phone.split(’-’))\n",
    "\n",
    "<br>\n",
    "\n",
    "`split()` 함수를 이용하여 하이픈('-')을 제거할 수도 있습니다. `split()` 함수는 문자열을 특정 구분자를 기준으로 나누어 리스트로 반환합니다.\n",
    "\n",
    "따라서 전화번호에서 하이픈을 제거하려면 먼저 `split()` 함수로 전화번호를 하이픈을 기준으로 나눈 후, `join()` 함수를 이용해 다시 합칠 수 있습니다.\n",
    "\n",
    "다음은 해당 코드입니다:\n",
    "\n",
    "```python\n",
    "phone = \"010-1234-5678\"\n",
    "print(''.join(phone.split('-')))\n",
    "```\n",
    "\n",
    "위 코드에서 `전화번호.split('-')`는 전화번호를 하이픈('-')을 기준으로 나누어 리스트를 반환하고, `''.join()`은 이 리스트의 요소들을 빈 문자열('')로 연결하여 하나의 문자열로 만듭니다. \n",
    "\n",
    "</aside>"
   ]
  }
 ],
 "metadata": {
  "colab": {
   "authorship_tag": "ABX9TyM3gebHvdgzn1rFsPHWTyo9",
   "provenance": []
  },
  "kernelspec": {
   "display_name": "Python 3",
   "name": "python3"
  },
  "language_info": {
   "codemirror_mode": {
    "name": "ipython",
    "version": 3
   },
   "file_extension": ".py",
   "mimetype": "text/x-python",
   "name": "python",
   "nbconvert_exporter": "python",
   "pygments_lexer": "ipython3",
   "version": "3.12.3"
  }
 },
 "nbformat": 4,
 "nbformat_minor": 0
}
