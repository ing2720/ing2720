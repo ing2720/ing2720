{
 "cells": [
  {
   "cell_type": "markdown",
   "metadata": {},
   "source": [
    "<span style=\"font-size:100%\">\n",
    "\n",
    "수업은 모두 열심히 들으셨나요?\n",
    "\n",
    "간혹 강의에서 언급되지 않은 내용이 문제로 나올 수 있습니다.<br>\n",
    "그럴땐 강의 내용 외 문제는 구글링을 통해 해결해주세요<br></span>\n",
    "<span style=\"font-size:80%\">\n",
    "(구글링 또한 개발자가 갖쳐야할 역량 중에 하나랍니다 😊)\n",
    "</span>\n",
    "\n",
    "---"
   ]
  },
  {
   "cell_type": "markdown",
   "metadata": {},
   "source": [
    "### Chapter05 : `Python 변수에 대한 개념 복습하기`"
   ]
  },
  {
   "cell_type": "markdown",
   "metadata": {},
   "source": [
    "<span style=\"font-size:80%\">[문제1]<br><br></span>\n",
    "```Python으로 변수를 생성하는 방법으로 올바른 것을 고르세요```\n",
    "\n",
    "1. number == 20\n",
    "2. 100 == number\n",
    "3. number(7)\n",
    "4. number = 7"
   ]
  },
  {
   "cell_type": "markdown",
   "metadata": {},
   "source": [
    "<span style=\"color:red\">답변</span>"
   ]
  },
  {
   "cell_type": "markdown",
   "metadata": {},
   "source": [
    "<aside>\n",
    "🔑 정답 : number = 7\n",
    "\n",
    "<br>\n",
    "\n",
    "\n",
    "파이썬에서 변수를 생성하는 방법은 매우 간단합니다. \n",
    "\n",
    "변수 이름에 `=` 연산자를 사용하여 값을 할당하면 됩니다. 이때 `=` 연산자는 \"같다\"라는 의미가 아니라, 변수에 값을 할당하는 의미로 사용됩니다.\n",
    "\n",
    "number라는 이름의 변수에 7이라는 값을 할당하려면 다음과 같이 작성합니다.\n",
    "\n",
    "```python\n",
    "number = 7\n",
    "```\n",
    "\n",
    "이렇게 하면 number라는 변수에 7이라는 값이 저장됩니다. \n",
    "\n",
    "이후 number를 사용하면 7이라는 값을 가리킵니다.\n",
    "\n",
    "</aside>"
   ]
  },
  {
   "cell_type": "markdown",
   "metadata": {},
   "source": [
    "----"
   ]
  },
  {
   "cell_type": "markdown",
   "metadata": {},
   "source": [
    "<span style=\"font-size:80%\">[문제2]<br><br></span>\n",
    "```다음 중 올바르지 않은 것을 골라주세요```\n",
    "\n",
    "이름 = \"김오즈\"<br>\n",
    "나이 = 14<br>\n",
    "소속 = \"마법중\"<br>\n",
    "등급 = 3<br>\n",
    "\n",
    "1. 이름 + 소속\n",
    "2. 나이 + 등급\n",
    "3. 소속 + 등급"
   ]
  },
  {
   "cell_type": "markdown",
   "metadata": {},
   "source": [
    "<span style=\"color:red\">답변</span>"
   ]
  },
  {
   "cell_type": "markdown",
   "metadata": {},
   "source": [
    "<aside>\n",
    "🔑 정답 : 소속 + 등급\n",
    "\n",
    "<br>\n",
    "\n",
    "파이썬에서 문자열과 숫자를 직접 더하는 연산(`+`)은 허용되지 않습니다. \n",
    "\n",
    "즉, 다른 타입의 데이터를 더하는 것은 일반적으로 허용되지 않습니다.\n",
    "\n",
    "위의 경우에서 `소속` 변수는 문자열 타입이고, `등급` 변수는 정수 타입입니다. 이 두 변수를 더하려고 하면, 파이썬은 문자열과 정수를 어떻게 더해야 할지 알 수 없어서 TypeError를 발생시킵니다.\n",
    "\n",
    "만일, 이 문제를 해결하고 싶으시다면 형변환을 이용해 문제를 해결할 수 있습니다. \n",
    "\n",
    "형변환을 통해 두 변수를 같은 타입으로 만든 후에 연산을 수행해야 합니다. \n",
    "\n",
    "아래와 같이 `등급` 변수를 문자열로 변환한 후에 더하면 됩니다\n",
    "\n",
    "```python\n",
    "result = 소속 + str(등급)\n",
    "```\n",
    "\n",
    "이렇게 하면 `등급` 변수의 값을 문자열로 변환한 후에 `소속` 변수와 더하므로, 오류 없이 연산을 수행할 수 있습니다.\n",
    "\n",
    "</aside>"
   ]
  },
  {
   "cell_type": "markdown",
   "metadata": {},
   "source": [
    "----"
   ]
  },
  {
   "cell_type": "markdown",
   "metadata": {},
   "source": [
    "<span style=\"font-size:80%\">[문제3]<br><br></span>\n",
    "```아래 변수의 type으로 올바른것을 골라주세요```\n",
    "\n",
    "퀴즈 = \"스페인에서 카리나를 보고 하는 말은?\"<br>\n",
    "type(퀴즈)"
   ]
  },
  {
   "cell_type": "markdown",
   "metadata": {},
   "source": [
    "<span style=\"color:red\">답변</span>"
   ]
  },
  {
   "cell_type": "markdown",
   "metadata": {},
   "source": [
    "<aside>\n",
    "🔑 정답 : str\n",
    "<br>\n",
    "\n",
    "`퀴즈` 변수에는 문자열 값이 할당되어 있으므로, `type(퀴즈)`의 출력 결과는 `<class 'str'>`이 됩니다.\n",
    "\n",
    "파이썬에서 `type()` 함수는 입력된 변수 또는 값의 타입을 반환하는 내장 함수입니다. 여기서 'str'은 문자열을 의미하는 'string'의 줄임말입니다.\n",
    "\n",
    "따라서 `퀴즈` 변수에 문자열 값이 할당되어 있으므로, `type(퀴즈)`는 `<class 'str'>`을 출력합니다. 이는 `퀴즈` 변수의 타입이 문자열임을 나타냅니다.\n",
    "\n",
    "</aside>"
   ]
  },
  {
   "cell_type": "markdown",
   "metadata": {},
   "source": [
    "----"
   ]
  },
  {
   "cell_type": "markdown",
   "metadata": {},
   "source": [
    "<span style=\"font-size:80%\">[문제4]<br><br></span>\n",
    "```다음 중 변수 이름으로 사용할 수 없는 것을 모두 골라주세요```\n",
    "\n",
    "1. 78abc\n",
    "2. ABC\n",
    "3. _ABC\n",
    "4. _hello%2\n",
    "5. for"
   ]
  },
  {
   "cell_type": "markdown",
   "metadata": {},
   "source": [
    "<span style=\"color:red\">답변</span>"
   ]
  },
  {
   "cell_type": "markdown",
   "metadata": {},
   "source": [
    "<aside>\n",
    "🔑 정답 : 78abc, _hello%, for\n",
    "\n",
    "<br>\n",
    "\n",
    "파이썬에서 변수 이름을 정할 때는 규칙을 따라야 합니다.\n",
    "보기로 주어진 변수는 아래와 같은 규칙을 따르지 않아 변수로 사용할 수 없습니다.\n",
    "\n",
    "1. **변수 이름은 숫자로 시작할 수 없습니다. 따라서 `78abc`는 올바른 변수 이름이 아닙니다.**\n",
    "2. **변수 이름에는 알파벳, 숫자, 밑줄(_)만 사용할 수 있습니다. 특수 문자(% 등)는 사용할 수 없습니다. \n",
    "따라서 `_hello%2`는 올바른 변수 이름이 아닙니다.**\n",
    "3. **변수 이름은 파이썬의 키워드(예: `for`, `if`, `while`, `and`, `or` 등)와 같을 수 없습니다. \n",
    "따라서 `for`는 올바른 변수 이름이 아닙니다.**\n",
    "</aside>"
   ]
  },
  {
   "cell_type": "markdown",
   "metadata": {},
   "source": [
    "----"
   ]
  },
  {
   "cell_type": "markdown",
   "metadata": {},
   "source": [
    "<span style=\"font-size:80%\">[문제5]<br><br></span>\n",
    "```다음 중 변수와 연산자의 사용 방법으로 올바르지 않은 것을 모두 골라주세요```\n",
    "\n",
    "x = 3\n",
    "y = 7\n",
    "\n",
    "1. x = x + y\n",
    "2. x // 2\n",
    "3. z >< x\n",
    "4. y += x\n",
    "5. ++x"
   ]
  },
  {
   "cell_type": "markdown",
   "metadata": {},
   "source": [
    "<span style=\"color:red\">답변</span>"
   ]
  },
  {
   "cell_type": "markdown",
   "metadata": {},
   "source": [
    "<aside>\n",
    "🔑 정답 : z >< x, ++x\n",
    "\n",
    "<br>\n",
    "\n",
    "- **z><x** **:  z는 변수로 정의되지 않았습니다. 또한 ><는 유효하지 않은 연산자 입니다. 따라서 이는 올바르지 않은 사용 방법입니다.**\n",
    "- **++x : 파이썬에서는 `++` 연산자가 존재하지 않습니다. 만약 x를 1 증가시키려는 의도였다면, `x += 1` 또는 `x = x + 1`를 사용해야 합니다. 따라서 이는 올바르지 않은 사용 방법입니다.**\n",
    "</aside>"
   ]
  },
  {
   "cell_type": "markdown",
   "metadata": {},
   "source": [
    "----"
   ]
  },
  {
   "cell_type": "markdown",
   "metadata": {},
   "source": [
    "### Chapter06 : `Python 자료형인 int와 float 개념 복습하기`"
   ]
  },
  {
   "cell_type": "markdown",
   "metadata": {},
   "source": [
    "<span style=\"font-size:80%\">[문제1]<br><br></span>\n",
    "```실수를 정수로 만드는 식으로 올바른 것을 고르세요```\n",
    "\n",
    "1. str(3.5)\n",
    "2. int(3.5)\n",
    "3. float(3.5)"
   ]
  },
  {
   "cell_type": "markdown",
   "metadata": {},
   "source": [
    "<span style=\"color:red\">답변</span>"
   ]
  },
  {
   "cell_type": "markdown",
   "metadata": {},
   "source": [
    "<aside>\n",
    "🔑 정답 : int(3.5)\n",
    "<br>\n",
    "\n",
    "파이썬에서 `int()` 함수는 실수를 정수로 변환하는 역할을 합니다. \n",
    "\n",
    "이때 소수점 아래의 값은 버림 처리됩니다. 따라서 `int(3.5)`는 `3.5`를 정수 `3`으로 변환합니다.\n",
    "\n",
    "이와 달리 `str(3.5)`는 실수 `3.5`를 문자열 `'3.5'`로 변환하는 것이고, `float(3.5)`는 이미 실수인 `3.5`를 그대로 반환합니다. \n",
    "\n",
    "이 두 함수는 실수를 정수로 변환하는 역할을 하지 않습니다. 따라서 이 두 표현은 이 문제의 정답이 아닙니다.\n",
    "\n",
    "</aside>"
   ]
  },
  {
   "cell_type": "markdown",
   "metadata": {},
   "source": [
    "----"
   ]
  },
  {
   "cell_type": "markdown",
   "metadata": {},
   "source": [
    "<span style=\"font-size:80%\">[문제2]<br><br></span>\n",
    "```실수 3.5의 type과 동일한 것을 고르세요```\n",
    "\n",
    "1. float(17//3)\n",
    "2. int(10)-9\n",
    "3. float11/2\n",
    "4. float(10)-2"
   ]
  },
  {
   "cell_type": "markdown",
   "metadata": {},
   "source": [
    "<span style=\"color:red\">답변</span>"
   ]
  },
  {
   "cell_type": "markdown",
   "metadata": {},
   "source": [
    "<aside>\n",
    "🔑 정답 : float\n",
    "<br>\n",
    "\n",
    "**실수 `3.5`의 타입은 `float`입니다.**\n",
    "\n",
    "**파이썬에서 `float`은 부동소수점 숫자를 나타내는 데이터 타입입니다. \n",
    "부동소수점 숫자는 소수점이 있는 숫자, 즉 실수를 의미합니다.**\n",
    "\n",
    "**따라서 `3.5`와 같은 소수점이 있는 숫자는 `float` 타입으로 표현됩니다. 이는 파이썬의 데이터 타입 규칙에 따른 것입니다. \n",
    "이를 확인하려면 `type()` 함수를 사용할 수 있습니다:**\n",
    "\n",
    "</aside>"
   ]
  },
  {
   "cell_type": "markdown",
   "metadata": {},
   "source": [
    "----"
   ]
  },
  {
   "cell_type": "markdown",
   "metadata": {},
   "source": [
    "<span style=\"font-size:80%\">[문제3]<br><br></span>\n",
    "```type(3.0 + 7.0)의 결과로 올바른 것을 고르세요```\n",
    "\n",
    "1. 10\n",
    "2. 10.0\n",
    "3. int\n",
    "4. float"
   ]
  },
  {
   "cell_type": "markdown",
   "metadata": {},
   "source": [
    "<span style=\"color:red\">답변</span>"
   ]
  },
  {
   "cell_type": "markdown",
   "metadata": {},
   "source": [
    "<aside>\n",
    "🔑 정답 : 10.0\n",
    "<br>\n",
    "\n",
    "**`type(3.0 + 7.0)`의 결과는 `<class 'float'>`입니다.**\n",
    "\n",
    "**파이썬에서 두 개의 `float` 타입 값을 더하면 결과도 `float` 타입으로 반환됩니다. 여기서 `3.0`과 `7.0`은 모두 `float` 타입의 값입니다. 따라서 이 두 값을 더한 결과인 `10.0`도 `float` 타입입니다.**\n",
    "\n",
    "**`type()` 함수는 변수나 값의 타입을 반환하는 파이썬의 내장 함수입니다. 따라서 `type(3.0 + 7.0)`는 `3.0 + 7.0`의 결과인 `10.0`의 타입, 즉 `<class 'float'>`를 반환합니다.** \n",
    "\n",
    "</aside>"
   ]
  },
  {
   "cell_type": "markdown",
   "metadata": {},
   "source": [
    "----"
   ]
  },
  {
   "cell_type": "markdown",
   "metadata": {},
   "source": [
    "<span style=\"font-size:80%\">[문제4]<br><br></span>\n",
    "```float(5)의 결과로 올바른 것을 고르세요```\n",
    "\n",
    "1. 5\n",
    "2. `<class float>`\n",
    "3. 5.0\n",
    "4. type error"
   ]
  },
  {
   "cell_type": "markdown",
   "metadata": {},
   "source": [
    "<span style=\"color:red\">답변</span>"
   ]
  },
  {
   "cell_type": "markdown",
   "metadata": {},
   "source": [
    "<aside>\n",
    "🔑 정답 : 5.0\n",
    "<br>\n",
    "\n",
    "**`float(5)`의 결과는 `5.0`입니다.**\n",
    "\n",
    "**파이썬에서 `float()` 함수는 주어진 값을 부동소수점 수, 즉 실수로 변환하는 역할을 합니다. 이때 정수를 실수로 변환하면, 소수점 아래에 값이 없더라도 `.0`이 추가됩니다.**\n",
    "\n",
    "**따라서 `float(5)`는 정수 `5`를 실수 `5.0`으로 변환합니다.** \n",
    "\n",
    "</aside>"
   ]
  },
  {
   "cell_type": "markdown",
   "metadata": {},
   "source": [
    "----"
   ]
  },
  {
   "cell_type": "markdown",
   "metadata": {},
   "source": [
    "<span style=\"font-size:80%\">[문제5]<br><br></span>\n",
    "```int(13 / 2)의 결과로 올바른 것을 고르세요```\n",
    "\n",
    "1. 6.5\n",
    "2. 1\n",
    "3. 6\n",
    "4. 6.0"
   ]
  },
  {
   "cell_type": "markdown",
   "metadata": {},
   "source": [
    "<span style=\"color:red\">답변</span>"
   ]
  },
  {
   "cell_type": "markdown",
   "metadata": {},
   "source": [
    "<aside>\n",
    "🔑 정답 : 6\n",
    "<br>\n",
    "\n",
    "**`int(13 / 2)`의 결과는 `6`입니다.**\n",
    "\n",
    "**파이썬에서 `/` 연산자를 사용하면 나눗셈의 결과는 항상 `float` 타입으로 반환됩니다. 따라서 `13 / 2`는 `6.5`라는 `float` 타입의 값이 됩니다.**\n",
    "\n",
    "**그리고 `int()` 함수는 주어진 값을 정수로 변환하는 역할을 합니다. 이때 실수를 정수로 변환하면, 소수점 아래의 값은 버림 처리됩니다.**\n",
    "\n",
    "**따라서 `int(13 / 2)`는 `13 / 2`의 결과인 `6.5`를 정수 `6`으로 변환합니다.** \n",
    "\n",
    "</aside>"
   ]
  },
  {
   "cell_type": "markdown",
   "metadata": {},
   "source": [
    "----"
   ]
  },
  {
   "cell_type": "markdown",
   "metadata": {},
   "source": [
    "### Chapter07 : `Python 자료형인 str와 bool 개념 복습하기`"
   ]
  },
  {
   "cell_type": "markdown",
   "metadata": {},
   "source": [
    "<span style=\"font-size:80%\">[문제1]<br><br></span>\n",
    "```변수 퀴즈에 들어있는 정답 \"어중이떠중이\"를 출력하기 위한 슬라이싱으로 올바른 것을 모두 골라주세요```\n",
    "\n",
    "퀴즈 = \"스님이 공중에 뜬다를 4글자로 말하면? 어중이떠중이\"\n",
    "\n",
    "1. print(퀴즈[22:27])\n",
    "2. print(퀴즈[22:])\n",
    "3. print(퀴즈[22:28])\n",
    "4. print(퀴즈[28])"
   ]
  },
  {
   "cell_type": "markdown",
   "metadata": {},
   "source": [
    "<span style=\"color:red\">답변</span>"
   ]
  },
  {
   "cell_type": "markdown",
   "metadata": {},
   "source": [
    "<aside>\n",
    "🔑 정답 : print(퀴즈[22: ]), print(퀴즈[22:28])\n",
    "<br>\n",
    "\n",
    "문자열 슬라이싱을 이용해 \"어중이떠중이\"를 추출하기 위해선, 해당 문자열이 시작하는 인덱스와 끝나는 인덱스를 알아야 합니다. \n",
    "\n",
    "파이썬에서 문자열 인덱스는 0부터 시작하며, 슬라이싱은 [시작 인덱스:끝 인덱스] 형식으로 작성하며, 끝 인덱스는 실제로 추출되는 범위에서 제외됩니다.\n",
    "\n",
    "변수 `퀴즈`에 들어있는 문자열은 \"스님이 공중에 뜬다를 4글자로 말하면? 어중이떠중이\"이므로, \"어중이떠중이\"는 22번째 인덱스부터 시작합니다.\n",
    "\n",
    "따라서 슬라이싱 코드는 다음과 같습니다.\n",
    "\n",
    "```python\n",
    "print(퀴즈[22: ])\n",
    "print(퀴즈[22:28])\n",
    "```\n",
    "\n",
    "</aside>"
   ]
  },
  {
   "cell_type": "markdown",
   "metadata": {},
   "source": [
    "----"
   ]
  },
  {
   "cell_type": "markdown",
   "metadata": {},
   "source": [
    "<span style=\"font-size:80%\">[문제2]<br><br></span>\n",
    "```과일 변수에 들어있는 p의 개수를 구하는 코드로 올바른 것을 골라주세요```\n",
    "\n",
    "과일 = \"apple\" \n",
    "\n",
    "1. 과일.count('p')\n",
    "2. count(과일, 'p')\n",
    "3. 과일.index('p')\n",
    "4. count('p')"
   ]
  },
  {
   "cell_type": "markdown",
   "metadata": {},
   "source": [
    "<span style=\"color:red\">답변</span>"
   ]
  },
  {
   "cell_type": "markdown",
   "metadata": {},
   "source": [
    "<aside>\n",
    "🔑 정답 : 과일.count(’p’)\n",
    "\n",
    "파이썬에서 문자열 내 특정 문자의 개수를 세는 기능은 `count()` 함수를 이용하면 됩니다.\n",
    "\n",
    "따라서 변수 `과일`에 들어있는 'p'의 개수를 구하는 코드는 다음과 같습니다.\n",
    "\n",
    "```python\n",
    "과일.count('p')\n",
    "```\n",
    "\n",
    "</aside>"
   ]
  },
  {
   "cell_type": "markdown",
   "metadata": {},
   "source": [
    "----"
   ]
  },
  {
   "cell_type": "markdown",
   "metadata": {},
   "source": [
    "<span style=\"font-size:80%\">[문제3]<br><br></span>\n",
    "``` bool 타입에 해당하는 것만 골라주세요```\n",
    "\n",
    "1. true\n",
    "2. True\n",
    "3. False\n",
    "4. 0\n",
    "5. 1"
   ]
  },
  {
   "cell_type": "markdown",
   "metadata": {},
   "source": [
    "<span style=\"color:red\">답변</span>"
   ]
  },
  {
   "cell_type": "markdown",
   "metadata": {},
   "source": [
    "<aside>\n",
    "🔑 정답 : True, False\n",
    "<br>\n",
    "\n",
    "true, 0, 1은 bool 타입이 아닙니다.\n",
    "\n",
    "파이썬에서는 불리언(Boolean) 타입을 `True`와 `False`로 표현합니다. 여기서 주의해야 할 점은 `True`와 `False`는 대문자로 시작해야 한다는 것입니다. 따라서 소문자로 시작하는 `true`는 bool 타입이 아닙니다.\n",
    "\n",
    "`0`과 `1`은 정수 타입입니다. 불리언 타입의 `True`와 `False`는 내부적으로 `1`과 `0`으로 처리되기는 하지만, 이는 불리언 타입의 특성이며 `0`과 `1` 자체가 불리언 타입인 것은 아닙니다.\n",
    "\n",
    "불리언 타입으로 분류되는 데이터는 참(True)과 거짓(False) 두 가지 값만을 가질 수 있습니다. 불리언 타입은 조건문, 비교 연산, 논리 연산 등에서 주로 사용됩니다. 예를 들어, 조건이 충족되면 `True`를, 충족되지 않으면 `False`를 반환하는 등의 방식으로 사용됩니다.\n",
    "\n",
    "</aside>"
   ]
  },
  {
   "cell_type": "markdown",
   "metadata": {},
   "source": [
    "----"
   ]
  },
  {
   "cell_type": "markdown",
   "metadata": {},
   "source": [
    "<span style=\"font-size:80%\">[문제4]<br><br></span>\n",
    "```문자열의 길이를 구하는 방법으로 올바른 것을 고르세요```\n",
    "\n",
    "라라랜드 =  \"사람들은 다른 사람들의 열정에 끌리게 되어있어 자신이 잊은 걸 상기시켜 주니까\"\n",
    "\n",
    "1. 라라랜드.len()\n",
    "2. length(라라랜드)\n",
    "3. len(라라랜드)\n",
    "4. count(라라랜드)"
   ]
  },
  {
   "cell_type": "markdown",
   "metadata": {},
   "source": [
    "<span style=\"color:red\">답변</span>"
   ]
  },
  {
   "cell_type": "markdown",
   "metadata": {},
   "source": [
    "<aside>\n",
    "🔑 정답 : len(라라랜드)\n",
    "\n",
    "<br>\n",
    "\n",
    "파이썬에서 문자열의 길이를 구하는 방법은 `len()` 함수를 사용하는 것입니다. `len()` 함수는 문자열 뿐만 아니라 리스트, 튜플 등의 시퀀스 타입의 길이(요소의 개수)를 반환합니다.\n",
    "\n",
    "따라서 변수 `라라랜드`에 들어있는 문자열의 길이를 구하는 코드는 다음과 같습니다.\n",
    "\n",
    "```python\n",
    "라라랜드 =  \"사람들은 다른 사람들의 열정에 끌리게 되어있어 자신이 잊은 걸 상기시켜 주니까\"\n",
    "print(len(라라랜드))\n",
    "```\n",
    "\n",
    "위 코드는 `라라랜드` 변수에 저장된 문자열의 길이를 `length` 변수에 할당합니다.\n",
    "\n",
    "이렇게 `len()` 함수를 사용하는 이유는 파이썬에서 제공하는 내장 함수로서, 간단하게 시퀀스 타입의 길이를 측정할 수 있기 때문입니다. \n",
    "\n",
    "이는 코드의 가독성과 효율성을 높이는 데 도움이 됩니다.\n",
    "\n",
    "</aside>\n"
   ]
  },
  {
   "cell_type": "markdown",
   "metadata": {},
   "source": [
    "----"
   ]
  },
  {
   "cell_type": "markdown",
   "metadata": {},
   "source": [
    "### Chapter08 : `비교 연산자와 논리 연산자에 대해 복습해보기`"
   ]
  },
  {
   "cell_type": "markdown",
   "metadata": {},
   "source": [
    "<span style=\"font-size:80%\">[문제1]<br><br></span>\n",
    "```비교 연산자의 결과로 올바르지 않은 것을 골라주세요```\n",
    "\n",
    "1. 8 == 2 * 4&emsp;&emsp;결과 : True\n",
    "2. 4 != 2 + 2&emsp;&emsp;결과 : False\n",
    "3. 2 * 3 is 3 + 3&emsp;&emsp;결과 : True\n",
    "4. 8 is 4 * 2.0&emsp;&emsp;결과 : True\n",
    "5. 5 is 6 - 1.1&emsp;&emsp;결과 : False"
   ]
  },
  {
   "cell_type": "markdown",
   "metadata": {},
   "source": [
    "<span style=\"color:red\">답변</span>"
   ]
  },
  {
   "cell_type": "markdown",
   "metadata": {},
   "source": [
    "<aside>\n",
    "🔑 정답 : 8 is 4 * 2.0 결과 : True\n",
    "\n",
    "<br>\n",
    "\n",
    "각 비교 연산자의 결과는 다음과 같습니다:\n",
    "\n",
    "- `8 == 2 * 4`: 이 연산의 결과는 `True`입니다. `==`는 두 값이 같은지 비교하는 연산자입니다. 여기서 `2 * 4`는 `8`이므로, `8`과 `8`이 같으므로 `True`를 반환합니다.\n",
    "- `4 != 2 + 2`: 이 연산의 결과는 `False`입니다. `!=`는 두 값이 다른지 비교하는 연산자입니다. 여기서 `2 + 2`는 `4`이므로, `4`와 `4`는 같으므로 `False`를 반환합니다.\n",
    "- `2 * 3 is 3 + 3`: 이 연산의 결과는 `True`입니다. `is`는 두 객체가 동일한 객체인지(즉, 메모리 상에서 같은 위치에 있는지) 비교하는 연산자입니다. 여기서 `2 * 3`와 `3 + 3`는 모두 `6`을 가리키므로 `True`를 반환합니다.\n",
    "- `8 is 4 * 2.0`: 이 연산의 결과는 `False`입니다. `is`는 두 객체가 동일한 객체인지 비교하는 연산자입니다. 여기서 `8`은 정수이고, `4 * 2.0`은 실수입니다. 파이썬에서 정수와 실수는 서로 다른 객체로 취급되므로 `False`를 반환합니다.\n",
    "- `5 is 6 - 1.1`: 이 연산의 결과는 `False`입니다. `is`는 두 객체가 동일한 객체인지 비교하는 연산자입니다. 여기서 `5`은 정수이고, `6 - 1.1`은 실수입니다. 파이썬에서 정수와 실수는 서로 다른 객체로 취급되므로 `False`를 반환합니다.\n",
    "</aside>"
   ]
  },
  {
   "cell_type": "markdown",
   "metadata": {},
   "source": [
    "----"
   ]
  },
  {
   "cell_type": "markdown",
   "metadata": {},
   "source": [
    "<span style=\"font-size:80%\">[문제2]<br><br></span>\n",
    "```\"x는 5와 같지 않다\"라는 뜻과 동일한 것을 골라주세요```\n",
    "\n",
    "1. x <= 5\n",
    "2. x != 5\n",
    "3. x & 5\n",
    "4. x ! 5"
   ]
  },
  {
   "cell_type": "markdown",
   "metadata": {},
   "source": [
    "<span style=\"color:red\">답변</span>"
   ]
  },
  {
   "cell_type": "markdown",
   "metadata": {},
   "source": [
    "<aside>\n",
    "🔑 정답 : x != 5\n",
    "<br>\n",
    "\n",
    "`!=` 연산자는 두 값이 다른지를 비교하는 비교 연산자입니다. 따라서 `x != 5`는 \"x가 5와 다르다\" 또는 \"x는 5와 같지 않다\"라는 뜻을 가집니다.\n",
    "\n",
    "이 코드는 x의 값이 5와 다른 경우 `True`를, x의 값이 5와 같은 경우 `False`를 반환합니다. \n",
    "\n",
    "</aside>"
   ]
  },
  {
   "cell_type": "markdown",
   "metadata": {},
   "source": [
    "----"
   ]
  },
  {
   "cell_type": "markdown",
   "metadata": {},
   "source": [
    "<span style=\"font-size:80%\">[문제3]<br><br></span>\n",
    "```비교 연산자와 논리 연산자의 결과로 올바른 것을 모두 골라주세요```\n",
    "\n",
    "x = 10\n",
    "y = 20\n",
    "\n",
    "1. x == 10 or y == 10  결과 : False\n",
    "2. x >= 10 and y < 30  결과 : True\n",
    "3. not x == 10 결과 : False\n",
    "4. y != 20 or x != 10  결과 : True\n",
    "5. not y != 20 and x > 5  결과 : False"
   ]
  },
  {
   "cell_type": "markdown",
   "metadata": {},
   "source": [
    "<span style=\"color:red\">답변</span>"
   ]
  },
  {
   "cell_type": "markdown",
   "metadata": {},
   "source": [
    "<aside>\n",
    "🔑 정답 : (x >= 10 and y < 30 결과 : True), (not x == 10 결과 : False)\n",
    "<br>\n",
    "\n",
    "각 비교 연산자의 결과는 다음과 같습니다:\n",
    "\n",
    "- `x == 10 or y == 10`: 이 연산의 결과는 x가 10이거나 y가 10인 경우 `True`를 반환하고, 그렇지 않은 경우 `False`를 반환합니다. `or` 연산자는 두 조건 중 하나라도 참인 경우 `True`를 반환합니다.\n",
    "- `x >= 10 and y < 30`: 이 연산의 결과는 x가 10 이상이고 동시에 y가 30 미만인 경우 `True`를 반환하고, 그렇지 않은 경우 `False`를 반환합니다. `and` 연산자는 두 조건 모두 참인 경우에만 `True`를 반환합니다.\n",
    "- `not x == 10`: 이 연산의 결과는 x가 10이 아닌 경우 `True`를 반환하고, x가 10인 경우 `False`를 반환합니다. `not` 연산자는 조건의 참과 거짓을 반전시킵니다.\n",
    "- `y != 20 or x != 10`: 이 연산의 결과는 y가 20이 아니거나 x가 10이 아닌 경우 `True`를 반환하고, 그렇지 않은 경우 `False`를 반환합니다. `or` 연산자는 두 조건 중 하나라도 참인 경우 `True`를 반환합니다.\n",
    "- `not y != 20 and x > 5`: 이 연산의 결과는 y가 20이고 동시에 x가 5 초과인 경우 `True`를 반환하고, 그렇지 않은 경우 `False`를 반환합니다. `not` 연산자는 조건의 참과 거짓을 반전시키고, `and` 연산자는 두 조건 모두 참인 경우에만 `True`를 반환합니다.\n",
    "</aside>"
   ]
  },
  {
   "cell_type": "markdown",
   "metadata": {},
   "source": [
    "----"
   ]
  },
  {
   "cell_type": "markdown",
   "metadata": {},
   "source": [
    "<span style=\"font-size:80%\">[문제4]<br><br></span>\n",
    "```'치맥' and True의 결과로 올바른 것을 골라주세요```\n",
    "\n",
    "1. False\n",
    "2. 아묻따\n",
    "3. True\n",
    "4. 치맥True"
   ]
  },
  {
   "cell_type": "markdown",
   "metadata": {},
   "source": [
    "<span style=\"color:red\">답변</span>"
   ]
  },
  {
   "cell_type": "markdown",
   "metadata": {},
   "source": [
    "<aside>\n",
    "🔑 정답 :True\n",
    "<br>\n",
    "\n",
    "`'치맥' and True`의 결과는 `True`입니다.\n",
    "\n",
    "파이썬에서 `and` 연산자는 두 값이 모두 참인 경우에만 `True`를 반환합니다. 만약 두 값 중 하나라도 거짓인 경우, 거짓인 값을 반환합니다.\n",
    "\n",
    "여기서 `'치맥'`은 비어있지 않은 문자열로서 참(`True`)으로 간주되며 `True`는 boolean 값으로서 역시 참입니다. 따라서 두 값 모두 참이므로 `and` 연산의 결과는 마지막으로 평가된 값인 `True`를 반환합니다.\n",
    "\n",
    "이는 파이썬의 논리 연산 규칙에 따른 것으로, 파이썬에서 논리 연산은 왼쪽에서 오른쪽 순서로 평가하며, 평가가 중단될 수 있는 시점에서 평가를 중단('단락 평가' 또는 '빠른 실패'라고 함)하고 마지막으로 평가한 값을 반환합니다.\n",
    "\n",
    "</aside>"
   ]
  },
  {
   "cell_type": "markdown",
   "metadata": {},
   "source": [
    "----"
   ]
  },
  {
   "cell_type": "markdown",
   "metadata": {},
   "source": [
    "<span style=\"font-size:80%\">[문제5]<br><br></span>\n",
    "```논리 연산의 결과를 뒤집는 연산자를 골라주세요```\n",
    "\n",
    "1. is not\n",
    "2. not\n",
    "3. !=\n",
    "4. end\n",
    "5. and\n",
    "6. or"
   ]
  },
  {
   "cell_type": "markdown",
   "metadata": {},
   "source": [
    "<span style=\"color:red\">답변</span>"
   ]
  },
  {
   "cell_type": "markdown",
   "metadata": {},
   "source": [
    "<aside>\n",
    "🔑 정답 : not\n",
    "<br>\n",
    "\n",
    "파이썬에서 논리 연산의 결과를 뒤집는 연산자는 `not`입니다.\n",
    "\n",
    "`not` 연산자는 뒤따르는 논리 값이 `True`면 `False`를, `False`면 `True`를 반환합니다. \n",
    "즉, `not` 연산자는 논리 값을 반전시킵니다.\n",
    "\n",
    "`not True`는 `False`를 반환하고, `not False`는 `True`를 반환합니다. 또한, `not` 연산자는 표현식의 결과를 반전시키는 데도 사용할 수 있습니다. \n",
    "\n",
    "예를 들어, `not (5 > 1)`는 `False`를 반환합니다. \n",
    "\n",
    "여기서 `5 > 1`는 `True`이지만, `not` 연산자에 의해 `False`로 반전됩니다.\n",
    "\n",
    "</aside>"
   ]
  }
 ],
 "metadata": {
  "language_info": {
   "name": "python"
  }
 },
 "nbformat": 4,
 "nbformat_minor": 2
}
